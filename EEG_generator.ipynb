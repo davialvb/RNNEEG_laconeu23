{
 "cells": [
  {
   "cell_type": "code",
   "execution_count": 5,
   "id": "fc1cf817",
   "metadata": {},
   "outputs": [],
   "source": [
    "%matplotlib inline\n",
    "from netpyne import specs, sim\n",
    "import matplotlib.pyplot as plt\n",
    "from tqdm import tqdm\n",
    "import numpy as np"
   ]
  },
  {
   "cell_type": "code",
   "execution_count": 6,
   "id": "b5e23c88",
   "metadata": {},
   "outputs": [],
   "source": [
    "# Network parameters\n",
    "netParams = specs.NetParams()  # object of class NetParams to store the network parameters\n",
    "\n",
    "\n",
    "## Cell parameters\n",
    "netParams.cellParams['pyr'] = {\n",
    "    'secs': {\n",
    "        'soma': {\n",
    "            'geom': {\n",
    "                'diam': 18.8,   \n",
    "                'L': 18.8, \n",
    "                'Ra': 123.0},\n",
    "            'mechs': {\n",
    "                'hh': {\n",
    "                    'gnabar': 0.12, \n",
    "                    'gkbar': 0.036, \n",
    "                    'gl': 0.0003, \n",
    "                    'el': -70}\n",
    "            },\n",
    "            'ions':{\n",
    "                'k': {\n",
    "                    'e': -85,\n",
    "                }\n",
    "                \n",
    "            }\n",
    "        }\n",
    "    }\n",
    "}                \n",
    "\n",
    "\n",
    "## Population parameters\n",
    "netParams.popParams['E'] = {\n",
    "    'cellType': 'pyr', \n",
    "    'numCells': 40}\n",
    "\n",
    "netParams.popParams['I'] = {\n",
    "    'cellType': 'pyr', \n",
    "    'numCells': 10}\n",
    "\n",
    "\n",
    "## Synaptic mechanism parameters\n",
    "netParams.synMechParams['exc'] = {\n",
    "    'mod': 'Exp2Syn', \n",
    "    'tau1': 0.1, \n",
    "    'tau2': 5.0, \n",
    "    'e': 0}  # excitatory synaptic mechanism\n",
    "\n",
    "netParams.synMechParams['inh'] = {\n",
    "    'mod': 'Exp2Syn', \n",
    "    'tau1': 0.1, \n",
    "    'tau2': 5.0, \n",
    "    'e': -70}  # inhibitory synaptic mechanism\n",
    "\n",
    "\n",
    "# Stimulation parameters\n",
    "netParams.stimSourceParams['bkg'] = {\n",
    "    'type': 'NetStim', \n",
    "    'rate': 50, \n",
    "    'noise': 0.5}\n",
    "    \n",
    "netParams.stimTargetParams['bkg->E'] = {\n",
    "    'source': 'bkg', \n",
    "    'conds': {'pop': 'E'}, \n",
    "    'weight': 0.01, \n",
    "    'delay': 5, \n",
    "    'synMech': 'exc'}\n",
    "\n",
    "\n",
    "## Connectivity rules\n",
    "netParams.connParams['E->I'] = {    #  S -> I label\n",
    "    'preConds': {'pop': 'E'},       # conditions of presyn cells\n",
    "    'postConds': {'pop': 'I'},      # conditions of postsyn cells\n",
    "    'divergence': 5,               # probability of connection\n",
    "    'weight': 0.01,                 # synaptic weight\n",
    "    'delay': 5,                     # transmission delay (ms)\n",
    "    'synMech': 'exc'}               # synaptic mechanism\n",
    "\n",
    "netParams.connParams['I->E'] = {    #  I -> S label\n",
    "    'preConds': {'pop': 'I'},       # conditions of presyn cells\n",
    "    'postConds': {'pop': 'E'},      # conditions of postsyn cells\n",
    "    'probability': 0.7,               # probability of connection\n",
    "    'weight': 0.02,                 # synaptic weight\n",
    "    'delay': 5,                     # transmission delay (ms)\n",
    "    'synMech': 'inh'}               # synaptic mechanism\n",
    "\n",
    "\n",
    "# Simulation options\n",
    "simConfig = specs.SimConfig()       # object of class SimConfig to store simulation configuration\n",
    "\n",
    "simConfig.duration = 25*1e3          # Duration of the simulation, in ms\n",
    "simConfig.dt = 0.01                # Internal integration timestep to use\n",
    "simConfig.verbose = False           # Show detailed messages\n",
    "simConfig.recordTraces = {'V_soma':{'sec':'soma','loc':0.5,'var':'v'}}  # Dict with traces to record\n",
    "simConfig.recordStep = 0.1        # Step size in ms to save data (eg. V traces, LFP, etc)\n",
    "simConfig.filename = 'tut_oscillation'  # Set file output name\n",
    "simConfig.saveJson = False\n",
    "\n",
    "simConfig.recordLFP = [[50, 50, 50]]\n",
    "simConfig.recordDipole = True\n",
    "\n",
    "simConfig.analysis['plotTraces'] = {'include': [1], 'saveFig': False}  # Plot recorded traces for this list of cells\n",
    "simConfig.analysis['plotRaster'] = {'showFig': False}                  # Plot a raster\n",
    "simConfig.analysis['plotSpikeHist'] = {'include': ['E', 'I'], 'showFig': False}\n",
    "simConfig.analysis['plotRateSpectrogram'] = {'include': ['all']}\n",
    "\n",
    "\n",
    "# Create network and run simulation\n",
    "# sim.createSimulateAnalyze(netParams = netParams, simConfig = simConfig)"
   ]
  },
  {
   "cell_type": "code",
   "execution_count": null,
   "id": "7dca66e1",
   "metadata": {
    "scrolled": true
   },
   "outputs": [
    {
     "name": "stderr",
     "output_type": "stream",
     "text": [
      "\r",
      "  0%|                                                     | 0/2 [00:00<?, ?it/s]"
     ]
    },
    {
     "name": "stdout",
     "output_type": "stream",
     "text": [
      "\n",
      "Start time:  2023-01-18 18:49:54.801406\n",
      "\n",
      "Creating network of 2 cell populations on 1 hosts...\n",
      "  Number of cells on node 0: 50 \n",
      "  Done; cell creation time = 0.00 s.\n",
      "Making connections...\n",
      "  Number of connections on node 0: 475 \n",
      "  Done; cell connection time = 0.04 s.\n",
      "Adding stims...\n",
      "  Number of stims on node 0: 40 \n",
      "  Done; cell stims creation time = 0.00 s.\n",
      "Recording 1 traces of 1 types on node 0\n",
      "\n",
      "Running simulation using NEURON for 25000.0 ms...\n"
     ]
    }
   ],
   "source": [
    "qtd_sample = 1\n",
    "all_eeg = []\n",
    "targets = []\n",
    "for param_k in tqdm([-55, -85]):\n",
    "    #netParams.cellParams['pyr'][\"secs\"][\"soma\"][\"ions\"][\"k\"][\"e\"] = param_k\n",
    "    for j in range(qtd_sample):\n",
    "        netParams.cellParams['pyr'][\"secs\"][\"soma\"][\"ions\"][\"k\"][\"e\"] = param_k + np.random.randn()*0.1\n",
    "        netParams.stimSourceParams['bkg']['rate'] = 50+np.random.randn()*0.1\n",
    "        netParams.stimSourceParams['bkg']['noise'] = 0.5+np.random.randn()*0.01\n",
    "        sim.createSimulateAnalyze(netParams = netParams, simConfig = simConfig)\n",
    "        array, closest_elec_idx = sim.analysis.plotEEG()\n",
    "#         plt.plot(array[closest_elec_idx,-1000:])\n",
    "        all_eeg.append(array[closest_elec_idx,2000000::560])\n",
    "        targets.append(param_k)"
   ]
  },
  {
   "cell_type": "code",
   "execution_count": null,
   "id": "104fdb41",
   "metadata": {},
   "outputs": [],
   "source": [
    "plt.plot(all_eeg[0])"
   ]
  },
  {
   "cell_type": "code",
   "execution_count": null,
   "id": "014a1379",
   "metadata": {},
   "outputs": [],
   "source": [
    "plt.plot(all_eeg[-1][:1000])"
   ]
  },
  {
   "cell_type": "code",
   "execution_count": null,
   "id": "09d64a4b",
   "metadata": {},
   "outputs": [],
   "source": [
    "plt.plot(all_eeg[0])"
   ]
  }
 ],
 "metadata": {
  "kernelspec": {
   "display_name": "Python 3 (ipykernel)",
   "language": "python",
   "name": "python3"
  },
  "language_info": {
   "codemirror_mode": {
    "name": "ipython",
    "version": 3
   },
   "file_extension": ".py",
   "mimetype": "text/x-python",
   "name": "python",
   "nbconvert_exporter": "python",
   "pygments_lexer": "ipython3",
   "version": "3.8.13"
  }
 },
 "nbformat": 4,
 "nbformat_minor": 5
}
