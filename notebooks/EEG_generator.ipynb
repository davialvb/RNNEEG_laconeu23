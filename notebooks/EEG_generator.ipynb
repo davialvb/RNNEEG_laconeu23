{
 "cells": [
  {
   "cell_type": "markdown",
   "id": "6902b0fd",
   "metadata": {},
   "source": [
    "# Create synthetic data with netpyne"
   ]
  },
  {
   "cell_type": "code",
   "execution_count": null,
   "id": "fc1cf817",
   "metadata": {},
   "outputs": [],
   "source": [
    "%matplotlib inline\n",
    "from netpyne import specs, sim\n",
    "import matplotlib.pyplot as plt\n",
    "import pandas as pd\n",
    "from tqdm.notebook import tqdm\n",
    "import numpy as np"
   ]
  },
  {
   "cell_type": "code",
   "execution_count": null,
   "id": "b5e23c88",
   "metadata": {},
   "outputs": [],
   "source": [
    "# Network parameters\n",
    "netParams = specs.NetParams()  # object of class NetParams to store the network parameters\n",
    "\n",
    "\n",
    "## Cell parameters\n",
    "netParams.cellParams['pyr'] = {\n",
    "    'secs': {\n",
    "        'soma': {\n",
    "            'geom': {\n",
    "                'diam': 18.8,   \n",
    "                'L': 18.8, \n",
    "                'Ra': 123.0},\n",
    "            'mechs': {\n",
    "                'hh': {\n",
    "                    'gnabar': 0.12, \n",
    "                    'gkbar': 0.036, \n",
    "                    'gl': 0.0003, \n",
    "                    'el': -70}\n",
    "            },\n",
    "            'ions':{\n",
    "                'k': {\n",
    "                    'e': -85,\n",
    "                }\n",
    "                \n",
    "            }\n",
    "        }\n",
    "    }\n",
    "}                \n",
    "\n",
    "\n",
    "## Population parameters\n",
    "netParams.popParams['E'] = {\n",
    "    'cellType': 'pyr', \n",
    "    'numCells': 40}\n",
    "\n",
    "netParams.popParams['I'] = {\n",
    "    'cellType': 'pyr', \n",
    "    'numCells': 10}\n",
    "\n",
    "\n",
    "## Synaptic mechanism parameters\n",
    "netParams.synMechParams['exc'] = {\n",
    "    'mod': 'Exp2Syn', \n",
    "    'tau1': 0.1, \n",
    "    'tau2': 5.0, \n",
    "    'e': 0}  # excitatory synaptic mechanism\n",
    "\n",
    "netParams.synMechParams['inh'] = {\n",
    "    'mod': 'Exp2Syn', \n",
    "    'tau1': 0.1, \n",
    "    'tau2': 5.0, \n",
    "    'e': -70}  # inhibitory synaptic mechanism\n",
    "\n",
    "\n",
    "# Stimulation parameters\n",
    "netParams.stimSourceParams['bkg'] = {\n",
    "    'type': 'NetStim', \n",
    "    'rate': 50, \n",
    "    'noise': 0.5}\n",
    "    \n",
    "netParams.stimTargetParams['bkg->E'] = {\n",
    "    'source': 'bkg', \n",
    "    'conds': {'pop': 'E'}, \n",
    "    'weight': 0.01, \n",
    "    'delay': 5, \n",
    "    'synMech': 'exc'}\n",
    "\n",
    "\n",
    "## Connectivity rules\n",
    "netParams.connParams['E->I'] = {    #  S -> I label\n",
    "    'preConds': {'pop': 'E'},       # conditions of presyn cells\n",
    "    'postConds': {'pop': 'I'},      # conditions of postsyn cells\n",
    "    'divergence': 5,               # probability of connection\n",
    "    'weight': 0.01,                 # synaptic weight\n",
    "    'delay': 5,                     # transmission delay (ms)\n",
    "    'synMech': 'exc'}               # synaptic mechanism\n",
    "\n",
    "netParams.connParams['I->E'] = {    #  I -> S label\n",
    "    'preConds': {'pop': 'I'},       # conditions of presyn cells\n",
    "    'postConds': {'pop': 'E'},      # conditions of postsyn cells\n",
    "    'probability': 0.7,               # probability of connection\n",
    "    'weight': 0.02,                 # synaptic weight\n",
    "    'delay': 5,                     # transmission delay (ms)\n",
    "    'synMech': 'inh'}               # synaptic mechanism\n",
    "\n",
    "\n",
    "# Simulation options\n",
    "simConfig = specs.SimConfig()       # object of class SimConfig to store simulation configuration\n",
    "\n",
    "simConfig.duration = 25*1e3          # Duration of the simulation, in ms\n",
    "simConfig.dt = 0.01                # Internal integration timestep to use\n",
    "simConfig.verbose = False           # Show detailed messages\n",
    "simConfig.recordTraces = {'V_soma':{'sec':'soma','loc':0.5,'var':'v'}}  # Dict with traces to record\n",
    "simConfig.recordStep = 5        # Step size in ms to save data (eg. V traces, LFP, etc)\n",
    "simConfig.filename = 'tut_oscillation'  # Set file output name\n",
    "simConfig.saveJson = False\n",
    "\n",
    "simConfig.recordLFP = [[50, 50, 50]]\n",
    "simConfig.recordDipole = True"
   ]
  },
  {
   "cell_type": "code",
   "execution_count": null,
   "id": "7dca66e1",
   "metadata": {
    "scrolled": true
   },
   "outputs": [],
   "source": [
    "qtd_sample = 50\n",
    "all_eeg = []\n",
    "targets = []\n",
    "for param_k in tqdm([-55, -85]):\n",
    "    for i in tqdm(range(qtd_sample)):\n",
    "        # set reversal potential\n",
    "        netParams.cellParams['pyr'][\"secs\"][\"soma\"][\"ions\"][\"k\"][\"e\"] = param_k + np.random.randn()*0.1\n",
    "        # set rate and noise\n",
    "        netParams.stimSourceParams['bkg']['rate'] = 50+np.random.randn()*0.1\n",
    "        netParams.stimSourceParams['bkg']['noise'] = 0.5+np.random.randn()*0.01\n",
    "        # create network and run simulation\n",
    "        sim.createSimulateAnalyze(netParams = netParams, simConfig = simConfig)\n",
    "        array, closest_elec_idx = sim.analysis.plotEEG()\n",
    "        # we throw away the first 400 points\n",
    "        save_array = array[closest_elec_idx,400:]\n",
    "        # save data and target\n",
    "        all_eeg.append(save_array)\n",
    "        targets.append(param_k)"
   ]
  },
  {
   "cell_type": "code",
   "execution_count": null,
   "id": "fdf11eb5",
   "metadata": {},
   "outputs": [],
   "source": [
    "df = pd.DataFrame(all_eeg)\n",
    "df[\"target\"]=targets"
   ]
  },
  {
   "cell_type": "code",
   "execution_count": null,
   "id": "322a004d",
   "metadata": {},
   "outputs": [],
   "source": [
    "df.to_csv(\"eeg_dataset.csv\")"
   ]
  },
  {
   "cell_type": "markdown",
   "id": "badbed65",
   "metadata": {},
   "source": [
    "## Split data"
   ]
  },
  {
   "cell_type": "code",
   "execution_count": null,
   "id": "b5e670ac",
   "metadata": {},
   "outputs": [],
   "source": [
    "file_path = \"eeg_dataset.csv\"\n",
    "df = pd.read_csv(file_path)"
   ]
  },
  {
   "cell_type": "code",
   "execution_count": null,
   "id": "186dc3c4",
   "metadata": {},
   "outputs": [],
   "source": [
    "def split_df(df):\n",
    "    \n",
    "    new_healthy_data = []\n",
    "    new_healthy_targets = []\n",
    "    \n",
    "    new_not_healthy_data = []\n",
    "    new_not_healthy_targets = []\n",
    "    \n",
    "    df.drop(['Unnamed: 0'], inplace=True, axis=1)\n",
    "    \n",
    "    df_healthy = df.iloc[:50]\n",
    "    df_not_healthy = df.iloc[50:]\n",
    "    \n",
    "    df_healthy.drop([\"target\"], axis=1, inplace=True)\n",
    "    df_not_healthy.drop([\"target\"], axis=1, inplace=True)\n",
    "    \n",
    "    for i in df_healthy.to_numpy():\n",
    "        new_healthy_data+=np.split(i, 23)\n",
    "    healthy_targets = [\"-55\" for i in range(len(new_healthy_data))]\n",
    "\n",
    "    \n",
    "    for i in df_not_healthy.to_numpy():\n",
    "        new_not_healthy_data+=np.split(i, 23)\n",
    "    not_healthy_targets = [\"-85\" for i in range(len(new_not_healthy_data))]\n",
    "        \n",
    "    data = new_healthy_data+new_not_healthy_data\n",
    "    target = healthy_targets+not_healthy_targets\n",
    "    \n",
    "    final_df = pd.DataFrame(data)\n",
    "    final_df[\"target\"] = target\n",
    "        \n",
    "    return final_df"
   ]
  },
  {
   "cell_type": "code",
   "execution_count": null,
   "id": "09ce8cdd",
   "metadata": {
    "scrolled": true
   },
   "outputs": [],
   "source": [
    "final_df = split_df(df)"
   ]
  },
  {
   "cell_type": "code",
   "execution_count": null,
   "id": "ae4bbfcd",
   "metadata": {},
   "outputs": [],
   "source": [
    "final_df.to_csv(\"eeg_dataset_splited_3.csv\")"
   ]
  },
  {
   "cell_type": "markdown",
   "id": "1583d59f",
   "metadata": {},
   "source": [
    "## Join the simulated data"
   ]
  },
  {
   "cell_type": "code",
   "execution_count": null,
   "id": "f7cc7263",
   "metadata": {},
   "outputs": [],
   "source": [
    "pd.set_option('display.max_rows', None)"
   ]
  },
  {
   "cell_type": "code",
   "execution_count": null,
   "id": "93f7e2f2",
   "metadata": {},
   "outputs": [],
   "source": [
    "df_1 = pd.read_csv(\"eeg_dataset_splited_1.csv\")\n",
    "df_2 = pd.read_csv(\"eeg_dataset_splited_2.csv\")\n",
    "df_3 = pd.read_csv(\"eeg_dataset_splited_3.csv\")"
   ]
  },
  {
   "cell_type": "code",
   "execution_count": null,
   "id": "4df194d4",
   "metadata": {},
   "outputs": [],
   "source": [
    "df_dataset = pd.concat([df_1, df_2, df_3])\n",
    "df_dataset.sort_values([\"target\"], inplace=True)"
   ]
  },
  {
   "cell_type": "code",
   "execution_count": null,
   "id": "e1d1eced",
   "metadata": {},
   "outputs": [],
   "source": [
    "df_dataset.to_csv(\"eeg_netpyne_dataset.csv\")"
   ]
  },
  {
   "cell_type": "markdown",
   "id": "6ec9c723",
   "metadata": {},
   "source": [
    "## Split train and test data"
   ]
  },
  {
   "cell_type": "code",
   "execution_count": null,
   "id": "03d245d7",
   "metadata": {},
   "outputs": [],
   "source": [
    "df = pd.read_csv(\"dataset/eeg_netpyne_dataset.csv\")\n",
    "msk = np.random.rand(len(df)) < 0.8\n",
    "\n",
    "train = df[msk]\n",
    "test = df[~msk]"
   ]
  },
  {
   "cell_type": "code",
   "execution_count": null,
   "id": "9285827b",
   "metadata": {},
   "outputs": [],
   "source": [
    "train.target.value_counts()"
   ]
  },
  {
   "cell_type": "code",
   "execution_count": null,
   "id": "0dcc1562",
   "metadata": {},
   "outputs": [],
   "source": [
    "test.target.value_counts()"
   ]
  },
  {
   "cell_type": "code",
   "execution_count": null,
   "id": "9eda2bb8",
   "metadata": {},
   "outputs": [],
   "source": [
    "train.to_csv(\"dataset/train_eeg_netpyne_dataset.csv\")\n",
    "test.to_csv(\"dataset/test_eeg_netpyne_dataset.csv\")"
   ]
  }
 ],
 "metadata": {
  "kernelspec": {
   "display_name": "Python 3 (ipykernel)",
   "language": "python",
   "name": "python3"
  },
  "language_info": {
   "codemirror_mode": {
    "name": "ipython",
    "version": 3
   },
   "file_extension": ".py",
   "mimetype": "text/x-python",
   "name": "python",
   "nbconvert_exporter": "python",
   "pygments_lexer": "ipython3",
   "version": "3.8.13"
  }
 },
 "nbformat": 4,
 "nbformat_minor": 5
}
